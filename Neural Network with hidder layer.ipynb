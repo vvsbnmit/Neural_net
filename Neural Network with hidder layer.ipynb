{
 "cells": [
  {
   "cell_type": "code",
   "execution_count": 168,
   "metadata": {},
   "outputs": [],
   "source": [
    "import numpy as np"
   ]
  },
  {
   "cell_type": "code",
   "execution_count": 172,
   "metadata": {
    "code_folding": []
   },
   "outputs": [
    {
     "name": "stdout",
     "output_type": "stream",
     "text": [
      "Error:0.4964100319027255\n",
      "Error:0.34922588155640333\n",
      "Error:0.3477282652572742\n",
      "Error:0.3472346386108859\n",
      "Error:0.3469889737316165\n",
      "Error:0.34684196340250856\n"
     ]
    }
   ],
   "source": [
    "def sig(x, deriv = False):\n",
    "    if (deriv == True):\n",
    "        return x*(1-x)\n",
    "    \n",
    "    return 1/(1+np.exp(-x))\n",
    "\n",
    "\n",
    "X = np.array([[0,0,1],\n",
    "              [0,1,1],\n",
    "              [1,0,1],\n",
    "              [1,1,1]])\n",
    "\n",
    "y = np.array([[0],\n",
    "              [1],\n",
    "              [1],\n",
    "              [0]])\n",
    "\n",
    "np.random.seed(1)\n",
    "\n",
    "syn0 = 2*np.random.random((3,4))-1\n",
    "syn1 = 2*np.random.random((4,1))-1\n",
    "\n",
    "for j in range(60000):\n",
    "    \n",
    "    l0 = X\n",
    "    l1 = sig(np.dot(l0,syn0))\n",
    "    yhat = sig(np.dot(l1,syn1))\n",
    "    \n",
    "    err = y - yhat\n",
    "    \n",
    "    if (j% 10000) == 0:\n",
    "        print (\"Error:\" + str(np.mean(np.abs(err))))\n",
    "    \n",
    "    nn1 = err*sig(yhat,deriv = True)\n",
    "    \n",
    "    err1 = nn1.dot(syn1.T)\n",
    "    \n",
    "    nn2 = err1*sig(l1,deriv = True)\n",
    "    \n",
    "    syn1 += np.dot(yhat.T,nn1)\n",
    "    syn0 += np.dot(l0.T,nn2)"
   ]
  },
  {
   "cell_type": "code",
   "execution_count": 171,
   "metadata": {},
   "outputs": [
    {
     "data": {
      "text/plain": [
       "(4, 1)"
      ]
     },
     "execution_count": 171,
     "metadata": {},
     "output_type": "execute_result"
    }
   ],
   "source": [
    "y.shape"
   ]
  }
 ],
 "metadata": {
  "kernelspec": {
   "display_name": "Python 3",
   "language": "python",
   "name": "python3"
  },
  "language_info": {
   "codemirror_mode": {
    "name": "ipython",
    "version": 3
   },
   "file_extension": ".py",
   "mimetype": "text/x-python",
   "name": "python",
   "nbconvert_exporter": "python",
   "pygments_lexer": "ipython3",
   "version": "3.6.4"
  }
 },
 "nbformat": 4,
 "nbformat_minor": 2
}
